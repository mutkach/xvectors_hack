{
 "cells": [
  {
   "cell_type": "code",
   "execution_count": 28,
   "metadata": {},
   "outputs": [],
   "source": [
    "import json\n",
    "import time\n",
    "from tqdm import tqdm, trange\n",
    "import numpy as np\n",
    "import pandas as pd\n",
    "import redis\n",
    "from redis.commands.search.field import TextField, NumericField, TagField, VectorField\n",
    "from redis.commands.search.indexDefinition import IndexDefinition, IndexType\n",
    "from redis.commands.search.query import NumericFilter, Query\n",
    "\n",
    "import requests\n",
    "import glob\n",
    "from PIL import Image\n",
    "from io import BytesIO\n",
    "from vectorize.embed import TextVectorizingModel, ImageVectorizingModel\n"
   ]
  },
  {
   "cell_type": "code",
   "execution_count": 5,
   "metadata": {},
   "outputs": [],
   "source": [
    "text_vectorizer = TextVectorizingModel(filename=\"./vectorize/bge.quant.onnx\")\n",
    "image_vectorizer = ImageVectorizingModel(filename=\"./vectorize/mobileclip_s0.pt\")\n"
   ]
  },
  {
   "cell_type": "code",
   "execution_count": 7,
   "metadata": {},
   "outputs": [],
   "source": [
    "def get(url, cache='data/images'):\n",
    "    filename=url.split(\"/\")[-1]\n",
    "    if filename in list(map(lambda x: x.split('/')[-1], glob.glob(f'{cache}/*'))):\n",
    "        im = Image.open(f'{cache}/{filename}')\n",
    "    else:\n",
    "        response = requests.get(url)\n",
    "        if response.status_code != 400:\n",
    "            im=Image.open(BytesIO(response.content))\n",
    "            im.save(f'{cache}/{filename}')\n",
    "    return im"
   ]
  },
  {
   "cell_type": "code",
   "execution_count": 8,
   "metadata": {},
   "outputs": [],
   "source": [
    "cache='data/images'"
   ]
  },
  {
   "cell_type": "code",
   "execution_count": 33,
   "metadata": {},
   "outputs": [],
   "source": [
    "df = pd.read_csv(\"./products_with_categories.csv\")\n",
    "df = df.drop(['Unnamed: 0'], axis=1)#,'asin', 'stars', 'listPrice', 'reviews', 'productURL', 'isBestSeller', 'boughtInLastMonth'], axis=1)\n",
    "N = len(df)\n",
    "df.head()\n",
    "\n",
    "text_embeddings = np.zeros((N, 1024))\n",
    "image_embeddings = np.zeros((N, 512))\n",
    "#df=df.drop('id', axis=1)"
   ]
  },
  {
   "cell_type": "code",
   "execution_count": null,
   "metadata": {},
   "outputs": [],
   "source": []
  },
  {
   "cell_type": "code",
   "execution_count": 35,
   "metadata": {},
   "outputs": [
    {
     "name": "stderr",
     "output_type": "stream",
     "text": [
      "  0%|          | 0/2542 [00:00<?, ?it/s]/Users/nikita/venv/lib/python3.9/site-packages/torch/amp/autocast_mode.py:202: UserWarning: User provided device_type of 'cuda', but CUDA is not available. Disabling\n",
      "  warnings.warn('User provided device_type of \\'cuda\\', but CUDA is not available. Disabling')\n",
      "100%|██████████| 2542/2542 [19:35<00:00,  2.16it/s]  \n"
     ]
    }
   ],
   "source": [
    "for i in trange(N):\n",
    "    row = df.iloc[i]\n",
    "    redis_key = f\"product:{i:07}\"\n",
    "    im=get(f\"{row['imgUrl']}\")\n",
    "    image_embedding = image_vectorizer.vectorize(f\"{cache}/{row['img']}\")[0].tolist()\n",
    "    text_embedding = text_vectorizer.vectorize(row['title'])[0].tolist()\n",
    "    text_embeddings[i] = text_embedding\n",
    "    image_embeddings[i] = image_embedding\n",
    "    \n",
    "np.save('text_embeddings_v2.npy', text_embeddings)\n",
    "np.save('image_embeddings_v2.npy', image_embeddings)\n"
   ]
  },
  {
   "cell_type": "code",
   "execution_count": 19,
   "metadata": {},
   "outputs": [
    {
     "data": {
      "text/plain": [
       "PIL.JpegImagePlugin.JpegImageFile"
      ]
     },
     "execution_count": 19,
     "metadata": {},
     "output_type": "execute_result"
    }
   ],
   "source": [
    "im=get(f\"{cache}/{row['img']}\")\n",
    "\n",
    "#image_embedding = image_vectorizer.vectorize(im)[0].tolist()"
   ]
  },
  {
   "cell_type": "code",
   "execution_count": 23,
   "metadata": {},
   "outputs": [
    {
     "name": "stderr",
     "output_type": "stream",
     "text": [
      "100%|██████████| 4425/4425 [00:02<00:00, 1637.12it/s]\n"
     ]
    }
   ],
   "source": [
    "client= redis.Redis(host='localhost', port=6380)\n",
    "pipeline = client.pipeline()\n",
    "\n",
    "for i in trange(N):\n",
    "    row = df.iloc[i]\n",
    "    redis_key = f\"product:{i:07}\"\n",
    "    #im=get(f\"{cache}/{row['img']}\")\n",
    "    to_add = row.to_dict()\n",
    "    to_add['text_embedding'] = []\n",
    "    to_add['image_embedding'] = []\n",
    "    \n",
    "    pipeline.json().set(redis_key, \"$\", to_add)\n",
    "    pipeline.json().set(redis_key, \"$.text_embedding\", text_embeddings[i].tolist())\n",
    "    pipeline.json().set(redis_key, \"$.image_embedding\", image_embeddings[i].tolist())\n",
    "\n",
    "res = pipeline.execute()"
   ]
  },
  {
   "cell_type": "code",
   "execution_count": null,
   "metadata": {},
   "outputs": [],
   "source": []
  },
  {
   "cell_type": "code",
   "execution_count": 131,
   "metadata": {},
   "outputs": [],
   "source": [
    "schema = (\n",
    "    TextField(\"$.title\", no_stem=True, as_name=\"title\"),\n",
    "    TextField(\"$.img\", no_stem=True, as_name=\"path to image\"),\n",
    "    NumericField(\"$.price\", as_name=\"example price\"),\n",
    "    TextField(\"$.category\"),\n",
    "    VectorField(\n",
    "        \"$.text_embedding\",\n",
    "        \"FLAT\",\n",
    "        {\n",
    "            \"TYPE\": \"FLOAT32\",\n",
    "            \"DIM\": 1024,\n",
    "            \"DISTANCE_METRIC\": \"L2\",\n",
    "        },\n",
    "        as_name=\"text_vector\",\n",
    "    ),\n",
    "    VectorField(\n",
    "        \"$.image_embedding\",\n",
    "        \"FLAT\",\n",
    "        {\n",
    "            \"TYPE\": \"FLOAT32\",\n",
    "            \"DIM\": 512,\n",
    "            \"DISTANCE_METRIC\": \"L2\",\n",
    "        },\n",
    "        as_name=\"image_vector\",\n",
    "    )\n",
    ")\n",
    "\n",
    "definition = IndexDefinition(prefix=[\"product:\"], index_type=IndexType.JSON)\n",
    "res = client.ft(\"idx:product_vss\").create_index(\n",
    "    fields=schema, definition=definition\n",
    ")"
   ]
  },
  {
   "cell_type": "code",
   "execution_count": 132,
   "metadata": {},
   "outputs": [],
   "source": [
    "info = client.ft(\"idx:product_vss\").info()\n",
    "num_docs = info[\"num_docs\"]\n",
    "indexing_failures = info[\"hash_indexing_failures\"]"
   ]
  },
  {
   "cell_type": "code",
   "execution_count": 146,
   "metadata": {},
   "outputs": [
    {
     "name": "stdout",
     "output_type": "stream",
     "text": [
      "4439 documents indexed with 0 failures\n"
     ]
    }
   ],
   "source": [
    "assert indexing_failures == '0'\n",
    "print(f\"{num_docs} documents indexed with {indexing_failures} failures\")"
   ]
  },
  {
   "cell_type": "code",
   "execution_count": 27,
   "metadata": {},
   "outputs": [
    {
     "ename": "UnboundLocalError",
     "evalue": "local variable 'im' referenced before assignment",
     "output_type": "error",
     "traceback": [
      "\u001b[0;31m---------------------------------------------------------------------------\u001b[0m",
      "\u001b[0;31mUnboundLocalError\u001b[0m                         Traceback (most recent call last)",
      "Cell \u001b[0;32mIn[27], line 1\u001b[0m\n\u001b[0;32m----> 1\u001b[0m queries \u001b[38;5;241m=\u001b[39m \u001b[43mimage_vectorizer\u001b[49m\u001b[38;5;241;43m.\u001b[39;49m\u001b[43mvectorize\u001b[49m\u001b[43m(\u001b[49m\u001b[43mImage\u001b[49m\u001b[38;5;241;43m.\u001b[39;49m\u001b[43mopen\u001b[49m\u001b[43m(\u001b[49m\u001b[38;5;124;43m\"\u001b[39;49m\u001b[38;5;124;43mpics/dewalt.jpeg\u001b[39;49m\u001b[38;5;124;43m\"\u001b[39;49m\u001b[43m)\u001b[49m\u001b[43m)\u001b[49m\n",
      "File \u001b[0;32m~/Documents/xvectors/vectorize/embed.py:35\u001b[0m, in \u001b[0;36mImageVectorizingModel.vectorize\u001b[0;34m(self, image)\u001b[0m\n\u001b[1;32m     33\u001b[0m \u001b[38;5;28;01mif\u001b[39;00m \u001b[38;5;28misinstance\u001b[39m(image, \u001b[38;5;28mbytes\u001b[39m):\n\u001b[1;32m     34\u001b[0m     im\u001b[38;5;241m=\u001b[39mImage\u001b[38;5;241m.\u001b[39mopen(BytesIO(image))\n\u001b[0;32m---> 35\u001b[0m features \u001b[38;5;241m=\u001b[39m \u001b[38;5;28mself\u001b[39m\u001b[38;5;241m.\u001b[39mpreprocess(\u001b[43mim\u001b[49m\u001b[38;5;241m.\u001b[39mconvert(\u001b[38;5;124m'\u001b[39m\u001b[38;5;124mRGB\u001b[39m\u001b[38;5;124m'\u001b[39m))\u001b[38;5;241m.\u001b[39munsqueeze(\u001b[38;5;241m0\u001b[39m)\n\u001b[1;32m     36\u001b[0m \u001b[38;5;28;01mwith\u001b[39;00m torch\u001b[38;5;241m.\u001b[39mno_grad(), torch\u001b[38;5;241m.\u001b[39mcuda\u001b[38;5;241m.\u001b[39mamp\u001b[38;5;241m.\u001b[39mautocast():\n\u001b[1;32m     37\u001b[0m     image_features \u001b[38;5;241m=\u001b[39m \u001b[38;5;28mself\u001b[39m\u001b[38;5;241m.\u001b[39mmodel\u001b[38;5;241m.\u001b[39mencode_image(features)\u001b[38;5;241m.\u001b[39mnumpy()\n",
      "\u001b[0;31mUnboundLocalError\u001b[0m: local variable 'im' referenced before assignment"
     ]
    }
   ],
   "source": [
    "queries = image_vectorizer.vectorize(Image.open(\"pics/dewalt.jpeg\"))"
   ]
  },
  {
   "cell_type": "code",
   "execution_count": 25,
   "metadata": {},
   "outputs": [],
   "source": [
    "query = (\n",
    "    Query('(*)=>[KNN 3 @image_vector $query_vector AS vector_score]')\n",
    "     .sort_by('vector_score')\n",
    "     .return_fields('vector_score', 'title', 'price', 'img', 'category')\n",
    "     .dialect(2)\n",
    ")"
   ]
  },
  {
   "cell_type": "code",
   "execution_count": 26,
   "metadata": {},
   "outputs": [
    {
     "ename": "NameError",
     "evalue": "name 'queries' is not defined",
     "output_type": "error",
     "traceback": [
      "\u001b[0;31m---------------------------------------------------------------------------\u001b[0m",
      "\u001b[0;31mNameError\u001b[0m                                 Traceback (most recent call last)",
      "Cell \u001b[0;32mIn[26], line 2\u001b[0m\n\u001b[1;32m      1\u001b[0m client\u001b[38;5;241m.\u001b[39mft(\u001b[38;5;124m\"\u001b[39m\u001b[38;5;124midx:product_vss\u001b[39m\u001b[38;5;124m\"\u001b[39m)\u001b[38;5;241m.\u001b[39msearch(query, { \n\u001b[0;32m----> 2\u001b[0m     \u001b[38;5;124m'\u001b[39m\u001b[38;5;124mquery_vector\u001b[39m\u001b[38;5;124m'\u001b[39m: \u001b[43mqueries\u001b[49m\u001b[38;5;241m.\u001b[39mtobytes() \n\u001b[1;32m      3\u001b[0m     })\u001b[38;5;241m.\u001b[39mdocs\n",
      "\u001b[0;31mNameError\u001b[0m: name 'queries' is not defined"
     ]
    }
   ],
   "source": [
    "client.ft(\"idx:product_vss\").search(query, { \n",
    "    'query_vector': queries.tobytes() \n",
    "    }).docs\n"
   ]
  },
  {
   "cell_type": "code",
   "execution_count": 140,
   "metadata": {},
   "outputs": [],
   "source": [
    "queries = text_vectorizer.vectorize(\"Нужна дрель для стены\")\n",
    "\n",
    "query = (\n",
    "    Query('(*)=>[KNN 3 @text_vector $query_vector AS vector_score]')\n",
    "     .sort_by('vector_score')\n",
    "     .return_fields('vector_score', 'title', 'price', 'img', 'category')\n",
    "     .dialect(2)\n",
    ")"
   ]
  },
  {
   "cell_type": "code",
   "execution_count": 141,
   "metadata": {},
   "outputs": [
    {
     "data": {
      "text/plain": [
       "[Document {'id': 'product:0002648', 'payload': None, 'vector_score': '0.866307914257', 'title': 'Quickpoint Mortar Gun Drill Adaptor - Perfect For tuckpointing, brick work, stone work, thin brick, grouting, crack repair, and glass block'},\n",
       " Document {'id': 'product:0003281', 'payload': None, 'vector_score': '0.875742018223', 'title': 'Dremel MM50-01 Multi-Max Oscillating DIY Tool Kit with Tool-LESS Accessory Change- 5 Amp, 30 Accessories- Compact Head & Angled Body- Drywall, Nails, Remove Grout & Sanding'},\n",
       " Document {'id': 'product:0001350', 'payload': None, 'vector_score': '0.875928580761', 'title': 'Right Angle Drill, 1/2 In, 355/750 RPM'}]"
      ]
     },
     "execution_count": 141,
     "metadata": {},
     "output_type": "execute_result"
    }
   ],
   "source": [
    "client.ft(\"idx:product_vss\").search(query, { \n",
    "    'query_vector': queries.tobytes() \n",
    "    }).docs\n"
   ]
  },
  {
   "cell_type": "code",
   "execution_count": null,
   "metadata": {},
   "outputs": [],
   "source": []
  }
 ],
 "metadata": {
  "kernelspec": {
   "display_name": "venv",
   "language": "python",
   "name": "python3"
  },
  "language_info": {
   "codemirror_mode": {
    "name": "ipython",
    "version": 3
   },
   "file_extension": ".py",
   "mimetype": "text/x-python",
   "name": "python",
   "nbconvert_exporter": "python",
   "pygments_lexer": "ipython3",
   "version": "3.9.6"
  }
 },
 "nbformat": 4,
 "nbformat_minor": 2
}
